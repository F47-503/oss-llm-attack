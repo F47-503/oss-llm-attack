{
 "cells": [
  {
   "cell_type": "code",
   "execution_count": 1,
   "metadata": {},
   "outputs": [],
   "source": [
    "import numpy as np\n",
    "import pandas as pd\n",
    "import torch\n",
    "import matplotlib.pyplot as plt\n",
    "import warnings\n",
    "\n",
    "warnings.simplefilter(\"ignore\")"
   ]
  },
  {
   "cell_type": "code",
   "execution_count": 2,
   "metadata": {},
   "outputs": [
    {
     "name": "stdout",
     "output_type": "stream",
     "text": [
      "Using device cuda\n"
     ]
    }
   ],
   "source": [
    "device = torch.device(\"cuda\") if torch.cuda.is_available() else torch.device(\"cpu\")\n",
    "print(f\"Using device {device}\")"
   ]
  },
  {
   "cell_type": "markdown",
   "metadata": {},
   "source": [
    "Example on how functions from `extraction_refactored.py` can be used, especially one which calculates perplexity"
   ]
  },
  {
   "cell_type": "code",
   "execution_count": 3,
   "metadata": {},
   "outputs": [
    {
     "name": "stdout",
     "output_type": "stream",
     "text": [
      "Using device cuda\n",
      "4.501964092254639\n",
      "7.048807621002197\n"
     ]
    }
   ],
   "source": [
    "from extraction_refactored import calculate_perplexity, parse_model_name\n",
    "\n",
    "model_name = \"bigcode/starcoderbase-1b\"\n",
    "model, tokenizer = parse_model_name(model_name)\n",
    "model.to(device)\n",
    "text1 = \"import pandas as pd\\nimport numpy as np\"\n",
    "text2 = \"#include <iostream>\"\n",
    "perplexity_score1 = calculate_perplexity(text1, model, tokenizer).item()\n",
    "perplexity_score2 = calculate_perplexity(text2, model, tokenizer).item()\n",
    "print(perplexity_score1)\n",
    "print(perplexity_score2)"
   ]
  },
  {
   "cell_type": "markdown",
   "metadata": {},
   "source": [
    "## Now exploring results we got from scripts\n",
    "We download results from file with samples, then iterate through dataset chunks and check if this code is some substring."
   ]
  },
  {
   "cell_type": "code",
   "execution_count": 4,
   "metadata": {},
   "outputs": [],
   "source": [
    "from utilities import read_results, search_in_train\n",
    "\n",
    "xl_top_scores, s_top_scores, texts = read_results(\"results_full\")\n",
    "quarter = len(s_top_scores) // 3\n",
    "uniques = pd.DataFrame(\n",
    "    {\n",
    "        \"xl_score\": xl_top_scores[quarter:],\n",
    "        \"other_score\": s_top_scores,\n",
    "        \"text\": texts[quarter:],\n",
    "    }\n",
    ").drop_duplicates([\"text\"])\n",
    "total = search_in_train(\"t5_dataset\", uniques[\"text\"], \"code\")\n",
    "train_texts = [\n",
    "    text\n",
    "    for text in uniques\n",
    "    if total[total[\"code\"].apply(lambda x: text in str(x))].shape[0] > 0\n",
    "]"
   ]
  },
  {
   "cell_type": "markdown",
   "metadata": {},
   "source": [
    "Drop duplicates of same paths and some code to see the overall picture."
   ]
  },
  {
   "cell_type": "code",
   "execution_count": null,
   "metadata": {},
   "outputs": [
    {
     "data": {
      "text/html": [
       "<div>\n",
       "<style scoped>\n",
       "    .dataframe tbody tr th:only-of-type {\n",
       "        vertical-align: middle;\n",
       "    }\n",
       "\n",
       "    .dataframe tbody tr th {\n",
       "        vertical-align: top;\n",
       "    }\n",
       "\n",
       "    .dataframe thead th {\n",
       "        text-align: right;\n",
       "    }\n",
       "</style>\n",
       "<table border=\"1\" class=\"dataframe\">\n",
       "  <thead>\n",
       "    <tr style=\"text-align: right;\">\n",
       "      <th></th>\n",
       "      <th>code</th>\n",
       "      <th>repo_name</th>\n",
       "      <th>path</th>\n",
       "      <th>language</th>\n",
       "      <th>license</th>\n",
       "      <th>size</th>\n",
       "    </tr>\n",
       "  </thead>\n",
       "  <tbody>\n",
       "    <tr>\n",
       "      <th>29070</th>\n",
       "      <td>#include \"qrcodedialog.h\"\\n#include \"ui_qrcode...</td>\n",
       "      <td>elco-coin/elcoin-source</td>\n",
       "      <td>src/qt/qrcodedialog.cpp</td>\n",
       "      <td>C++</td>\n",
       "      <td>mit</td>\n",
       "      <td>4309.0</td>\n",
       "    </tr>\n",
       "    <tr>\n",
       "      <th>225696</th>\n",
       "      <td>/*\\n * Copyright 2014-2019 Amazon.com, Inc. or...</td>\n",
       "      <td>jentfoo/aws-sdk-java</td>\n",
       "      <td>aws-java-sdk-glue/src/main/java/com/amazonaws/...</td>\n",
       "      <td>Java</td>\n",
       "      <td>apache-2.0</td>\n",
       "      <td>7408.0</td>\n",
       "    </tr>\n",
       "    <tr>\n",
       "      <th>272585</th>\n",
       "      <td>/*\\n * Copyright 2014-2019 Amazon.com, Inc. or...</td>\n",
       "      <td>jentfoo/aws-sdk-java</td>\n",
       "      <td>aws-java-sdk-glue/src/main/java/com/amazonaws/...</td>\n",
       "      <td>Java</td>\n",
       "      <td>apache-2.0</td>\n",
       "      <td>3381.0</td>\n",
       "    </tr>\n",
       "    <tr>\n",
       "      <th>580673</th>\n",
       "      <td>// \\n// Copyright (c) Microsoft and contributo...</td>\n",
       "      <td>namratab/azure-sdk-for-net</td>\n",
       "      <td>src/ResourceManagement/Network/NetworkManageme...</td>\n",
       "      <td>C#</td>\n",
       "      <td>apache-2.0</td>\n",
       "      <td>3544.0</td>\n",
       "    </tr>\n",
       "    <tr>\n",
       "      <th>1103503</th>\n",
       "      <td>/*\\n * Copyright 2014-2019 Amazon.com, Inc. or...</td>\n",
       "      <td>jentfoo/aws-sdk-java</td>\n",
       "      <td>aws-java-sdk-glue/src/main/java/com/amazonaws/...</td>\n",
       "      <td>Java</td>\n",
       "      <td>apache-2.0</td>\n",
       "      <td>4023.0</td>\n",
       "    </tr>\n",
       "    <tr>\n",
       "      <th>1363794</th>\n",
       "      <td>/*\\n * Copyright 2014-2019 Amazon.com, Inc. or...</td>\n",
       "      <td>jentfoo/aws-sdk-java</td>\n",
       "      <td>aws-java-sdk-glue/src/main/java/com/amazonaws/...</td>\n",
       "      <td>Java</td>\n",
       "      <td>apache-2.0</td>\n",
       "      <td>3287.0</td>\n",
       "    </tr>\n",
       "    <tr>\n",
       "      <th>1659519</th>\n",
       "      <td>// \\n// Copyright (c) Microsoft and contributo...</td>\n",
       "      <td>nemanja88/azure-sdk-for-net</td>\n",
       "      <td>src/ResourceManagement/Network/NetworkManageme...</td>\n",
       "      <td>C#</td>\n",
       "      <td>apache-2.0</td>\n",
       "      <td>4173.0</td>\n",
       "    </tr>\n",
       "  </tbody>\n",
       "</table>\n",
       "</div>"
      ],
      "text/plain": [
       "                                                      code  \\\n",
       "29070    #include \"qrcodedialog.h\"\\n#include \"ui_qrcode...   \n",
       "225696   /*\\n * Copyright 2014-2019 Amazon.com, Inc. or...   \n",
       "272585   /*\\n * Copyright 2014-2019 Amazon.com, Inc. or...   \n",
       "580673   // \\n// Copyright (c) Microsoft and contributo...   \n",
       "1103503  /*\\n * Copyright 2014-2019 Amazon.com, Inc. or...   \n",
       "1363794  /*\\n * Copyright 2014-2019 Amazon.com, Inc. or...   \n",
       "1659519  // \\n// Copyright (c) Microsoft and contributo...   \n",
       "\n",
       "                           repo_name  \\\n",
       "29070        elco-coin/elcoin-source   \n",
       "225696          jentfoo/aws-sdk-java   \n",
       "272585          jentfoo/aws-sdk-java   \n",
       "580673    namratab/azure-sdk-for-net   \n",
       "1103503         jentfoo/aws-sdk-java   \n",
       "1363794         jentfoo/aws-sdk-java   \n",
       "1659519  nemanja88/azure-sdk-for-net   \n",
       "\n",
       "                                                      path language  \\\n",
       "29070                              src/qt/qrcodedialog.cpp      C++   \n",
       "225696   aws-java-sdk-glue/src/main/java/com/amazonaws/...     Java   \n",
       "272585   aws-java-sdk-glue/src/main/java/com/amazonaws/...     Java   \n",
       "580673   src/ResourceManagement/Network/NetworkManageme...       C#   \n",
       "1103503  aws-java-sdk-glue/src/main/java/com/amazonaws/...     Java   \n",
       "1363794  aws-java-sdk-glue/src/main/java/com/amazonaws/...     Java   \n",
       "1659519  src/ResourceManagement/Network/NetworkManageme...       C#   \n",
       "\n",
       "            license    size  \n",
       "29070           mit  4309.0  \n",
       "225696   apache-2.0  7408.0  \n",
       "272585   apache-2.0  3381.0  \n",
       "580673   apache-2.0  3544.0  \n",
       "1103503  apache-2.0  4023.0  \n",
       "1363794  apache-2.0  3287.0  \n",
       "1659519  apache-2.0  4173.0  "
      ]
     },
     "execution_count": 8,
     "metadata": {},
     "output_type": "execute_result"
    }
   ],
   "source": [
    "total_no_dupl = total.drop_duplicates([\"path\"]).drop_duplicates([\"code\"])\n",
    "total_no_dupl.head(10)"
   ]
  },
  {
   "cell_type": "markdown",
   "metadata": {},
   "source": [
    "Check for appearances of memorized texts in train set. Also consider text which is most probably was fully memorized and in train set."
   ]
  },
  {
   "cell_type": "code",
   "execution_count": null,
   "metadata": {},
   "outputs": [
    {
     "name": "stdout",
     "output_type": "stream",
     "text": [
      "[31]\n",
      "text\n"
     ]
    }
   ],
   "source": [
    "train_counts = np.array(\n",
    "    [\n",
    "        total[total[\"code\"].apply(lambda x: text in str(x))].shape[0]\n",
    "        for text in train_texts\n",
    "    ]\n",
    ")\n",
    "print(train_counts)\n",
    "most_probably_train_text = train_texts[np.argmin(train_counts)]\n",
    "print(most_probably_train_text)"
   ]
  },
  {
   "cell_type": "markdown",
   "metadata": {},
   "source": [
    "Downloading logged scores for different methods"
   ]
  },
  {
   "cell_type": "code",
   "execution_count": null,
   "metadata": {},
   "outputs": [],
   "source": [
    "scores_S = np.load(\"scores_S\", allow_pickle=True)\n",
    "scores_XL = np.load(\"scores_XL\", allow_pickle=True)\n",
    "scores_zlib = np.load(\"scores_zlib\", allow_pickle=True)\n",
    "scores_Lower = np.load(\"scores_Lower\", allow_pickle=True)"
   ]
  },
  {
   "cell_type": "code",
   "execution_count": null,
   "metadata": {},
   "outputs": [
    {
     "data": {
      "text/plain": [
       "((7962,), (7962,), (7962,), (7962,))"
      ]
     },
     "execution_count": 11,
     "metadata": {},
     "output_type": "execute_result"
    }
   ],
   "source": [
    "scores_S.shape, scores_XL.shape, scores_Lower.shape, scores_zlib.shape"
   ]
  },
  {
   "cell_type": "markdown",
   "metadata": {},
   "source": [
    "Plotting different scores for all points (gray), memorized_points (blue), chosen points (red)"
   ]
  },
  {
   "cell_type": "code",
   "execution_count": null,
   "metadata": {},
   "outputs": [
    {
     "name": "stdout",
     "output_type": "stream",
     "text": [
      "Scores between model and smaller model\n"
     ]
    },
    {
     "data": {
      "text/plain": [
       "<matplotlib.collections.PathCollection at 0x7f246b0776d0>"
      ]
     },
     "execution_count": 26,
     "metadata": {},
     "output_type": "execute_result"
    },
    {
     "data": {
      "image/png": "[encoded data removed]",
      "text/plain": [
       "<Figure size 640x480 with 1 Axes>"
      ]
     },
     "metadata": {},
     "output_type": "display_data"
    }
   ],
   "source": [
    "print(\"Scores between model and smaller model\")\n",
    "plt.scatter(scores_S, scores_XL, color=\"gray\")\n",
    "plt.scatter(\n",
    "    s_top_scores[:quarter],\n",
    "    xl_top_scores[quarter : 2 * quarter],\n",
    "    color=\"blue\",\n",
    ")\n",
    "plt.scatter(\n",
    "    uniques[\n",
    "        uniques[\"text\"].apply(\n",
    "            lambda x: x in total.loc[quarter : 2 * quarter, :][\"code\"]\n",
    "        )\n",
    "    ][\"other_score\"],\n",
    "    uniques[\n",
    "        uniques[\"text\"].apply(\n",
    "            lambda x: x in total.loc[quarter : 2 * quarter, :][\"code\"]\n",
    "        )\n",
    "    ][\"xl_score\"],\n",
    "    color=\"red\",\n",
    ")"
   ]
  },
  {
   "cell_type": "code",
   "execution_count": null,
   "metadata": {},
   "outputs": [],
   "source": [
    "print(\"Scores between model and Lower-case inputs for same model\")\n",
    "plt.scatter(scores_Lower, scores_XL, color=\"gray\")\n",
    "plt.scatter(\n",
    "    s_top_scores[quarter : 2 * quarter],\n",
    "    xl_top_scores[2 * quarter : 3 * quarter],\n",
    "    color=\"blue\",\n",
    ")\n",
    "plt.scatter(\n",
    "    uniques[\n",
    "        uniques[\"text\"].apply(\n",
    "            lambda x: x in total.loc[2 * quarter : 3 * quarter, :][\"code\"]\n",
    "        )\n",
    "    ][\"other_score\"],\n",
    "    uniques[\n",
    "        uniques[\"text\"].apply(\n",
    "            lambda x: x in total.loc[2 * quarter : 3 * quarter, :][\"code\"]\n",
    "        )\n",
    "    ][\"xl_score\"],\n",
    "    color=\"red\",\n",
    ")"
   ]
  },
  {
   "cell_type": "code",
   "execution_count": null,
   "metadata": {},
   "outputs": [],
   "source": [
    "print(\"Scores between model and zlib-compression\")\n",
    "plt.scatter(scores_zlib, scores_XL, color=\"gray\")\n",
    "plt.scatter(s_top_scores[2 * quarter : 3 * quarter], xl_top_scores[3 * quarter :], color=\"blue\")\n",
    "plt.scatter(\n",
    "    uniques[uniques[\"text\"].apply(lambda x: x in total.loc[3 * quarter :, :][\"code\"])][\n",
    "        \"other_score\"\n",
    "    ],\n",
    "    uniques[uniques[\"text\"].apply(lambda x: x in total.loc[3 * quarter :, :][\"code\"])][\n",
    "        \"xl_score\"\n",
    "    ],\n",
    "    color=\"red\",\n",
    ")"
   ]
  },
  {
   "cell_type": "code",
   "execution_count": null,
   "metadata": {},
   "outputs": [],
   "source": []
  }
 ],
 "metadata": {
  "kernelspec": {
   "display_name": "Python 3",
   "language": "python",
   "name": "python3"
  },
  "language_info": {
   "codemirror_mode": {
    "name": "ipython",
    "version": 3
   },
   "file_extension": ".py",
   "mimetype": "text/x-python",
   "name": "python",
   "nbconvert_exporter": "python",
   "pygments_lexer": "ipython3",
   "version": "3.11.5"
  }
 },
 "nbformat": 4,
 "nbformat_minor": 2
}
